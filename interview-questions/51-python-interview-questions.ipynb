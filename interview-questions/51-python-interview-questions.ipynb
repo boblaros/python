{
 "cells": [
  {
   "cell_type": "markdown",
   "id": "224f5596-c7b5-4edc-ab2d-3e170eeb4775",
   "metadata": {},
   "source": [
    "# 51 Python Interview Questions for Data Scientist"
   ]
  },
  {
   "cell_type": "markdown",
   "id": "552bad0d-6a2e-4b34-a086-5ed4136e66b4",
   "metadata": {
    "jp-MarkdownHeadingCollapsed": true
   },
   "source": [
    "## 1. What is the difference between list and tuple"
   ]
  },
  {
   "cell_type": "markdown",
   "id": "f2f6ddc3-947a-481f-9cfe-2bc48db856ce",
   "metadata": {},
   "source": [
    "This question comes up very often in every Python / Data Science interview. Make sure to remember the correct answer.\n",
    "\n",
    "- **Lists are mutable.** They can be changed after creation.\n",
    "\n",
    "- **Tuples are immutable.** Once a tuple is created, it cannot be modified.\n",
    "\n",
    "- **Lists are ordered.** They represent an ordered sequence of objects of the same type.  \n",
    "  Example: all user names ordered by creation date  \n",
    "  `[\"Seth\", \"Ema\", \"Eli\"]`\n",
    "\n",
    "- **Tuples have structure.** Different data types can exist at each index.  \n",
    "  Example: a memory record from a database  \n",
    "  `(2, \"Ema\", \"2020-04-16\")  # id, name, created_at`\n"
   ]
  },
  {
   "cell_type": "markdown",
   "id": "b2477622-ada8-4b04-a1c9-e1d1fa8ad33d",
   "metadata": {
    "jp-MarkdownHeadingCollapsed": true
   },
   "source": [
    "## 2. How is string interpolation performed?"
   ]
  },
  {
   "cell_type": "markdown",
   "id": "33ac5f20-ba8e-4971-a29c-9368550eec6f",
   "metadata": {},
   "source": [
    "**Interpolation** is the \"insertion\" of variable values (or complex expressions) directly into a text string. In Python, even without additional imports, there are three main ways to do this:\n",
    "\n",
    "| Method         | Example                       | When to use                            |\n",
    "|----------------|-------------------------------|----------------------------------------|\n",
    "| **f-strings**  | `f\"Hello {name}\"`             | Python 3.6+, fastest and most readable |\n",
    "| **`%` operator** | `\"Hi %s\" % name`             | Older/legacy code, compatibility       |\n",
    "| **`.format()`** | `\"My name is {}\".format(name)` | Before Python 3.6 or if `.format()` is already widely used |\n",
    "\n",
    "An alternative is to use the `Template` class from the `string` module.\n"
   ]
  },
  {
   "cell_type": "code",
   "execution_count": 18,
   "id": "4f7ca5ab-f0df-485d-a9dc-c65753de2ddf",
   "metadata": {},
   "outputs": [],
   "source": [
    "name = 'George'"
   ]
  },
  {
   "cell_type": "code",
   "execution_count": 19,
   "id": "1cb2adc3-db44-472b-9310-4f92f9c7b063",
   "metadata": {},
   "outputs": [
    {
     "name": "stdout",
     "output_type": "stream",
     "text": [
      "My name is George\n"
     ]
    }
   ],
   "source": [
    "text1 = f'My name is {name}'\n",
    "print(text)"
   ]
  },
  {
   "cell_type": "code",
   "execution_count": 20,
   "id": "b636dba6-cb83-4061-b300-6460bb61de2b",
   "metadata": {},
   "outputs": [
    {
     "name": "stdout",
     "output_type": "stream",
     "text": [
      "My name is George\n"
     ]
    }
   ],
   "source": [
    "text2 = 'My name is {name}'.format(name=name)\n",
    "print(text)"
   ]
  },
  {
   "cell_type": "code",
   "execution_count": 21,
   "id": "1d8d8f6a-f631-4885-872b-461e1729a0b1",
   "metadata": {},
   "outputs": [
    {
     "name": "stdout",
     "output_type": "stream",
     "text": [
      "My name is George\n"
     ]
    }
   ],
   "source": [
    "text3 = 'My name is %s' % name\n",
    "print(text)"
   ]
  },
  {
   "cell_type": "code",
   "execution_count": 27,
   "id": "97899a8b-2411-48e4-ad5b-9626cc57dd69",
   "metadata": {},
   "outputs": [
    {
     "name": "stdout",
     "output_type": "stream",
     "text": [
      "The number is 3.1456\n"
     ]
    }
   ],
   "source": [
    "number = 3.145634\n",
    "print(f'The number is {number:,.4f}')"
   ]
  },
  {
   "cell_type": "markdown",
   "id": "527abca6-34c2-4755-a480-36a497095256",
   "metadata": {
    "jp-MarkdownHeadingCollapsed": true
   },
   "source": [
    "## 3. What is the d ifference between “is” and “==”?"
   ]
  },
  {
   "cell_type": "markdown",
   "id": "032c5ec8-e05f-480d-ab45-e4c26c597a79",
   "metadata": {},
   "source": [
    "**`==`** checks for **equality of values**\n",
    "**`is`** checks for **identical objects (same memory address)**\n",
    "\n",
    "Example:\n",
    "\n",
    "```python\n",
    "a = [1, 2, 3]  \n",
    "b = a  \n",
    "c = [1, 2, 3]  \n",
    "\n",
    "print(a == b)  # True  \n",
    "print(a == c)  # True  \n",
    "\n",
    "print(a is b)  # True  \n",
    "print(a is c)  # False  \n",
    "\n",
    "print(id(a))  \n",
    "print(id(b))  # same as a\n",
    "print(id(c))  # different\n",
    "```"
   ]
  },
  {
   "cell_type": "markdown",
   "id": "4b0759ec-8724-4beb-b67b-d89d5e774022",
   "metadata": {
    "jp-MarkdownHeadingCollapsed": true
   },
   "source": [
    "## 4. What is a decorator?"
   ]
  },
  {
   "cell_type": "markdown",
   "id": "91b608d1-14d3-4eea-8c52-4560068ff1d3",
   "metadata": {},
   "source": [
    "A decorator allows you to add functionality to an existing function by passing that existing function to a decorator, which will execute it and additional code. It's kind of like an add-on to an existing function.\n",
    "\n",
    "```python\n",
    "def simple_wrapper(func):\n",
    "    def inner():\n",
    "        print(\"→ До вызова\")\n",
    "        func()\n",
    "        print(\"← После вызова\")\n",
    "    return inner\n",
    "\n",
    "@simple_wrapper\n",
    "def greet():\n",
    "    print(\"Привет!\")\n",
    "\n",
    "greet()\n",
    "\n",
    "#→ До вызова\n",
    "#Привет!\n",
    "#← После вызова\n",
    "```"
   ]
  },
  {
   "cell_type": "markdown",
   "id": "b1a1fafa-45c2-46f3-bbe2-971f72342f72",
   "metadata": {
    "jp-MarkdownHeadingCollapsed": true
   },
   "source": [
    "## 5. Explain how the range function works"
   ]
  },
  {
   "cell_type": "markdown",
   "id": "c801a0ad-ded6-4a0f-abaa-99c1f29e372f",
   "metadata": {},
   "source": [
    "Range generates a list of integers and can be used in `three ways`.\n",
    "\n",
    "The function accepts `from 1 to 3 arguments`. Let us consider three cases - an entry with one, two and three arguments.\n",
    "\n",
    "1. **range(stop)**: generates integers from 0 to the integer “stop”\n",
    "```python\n",
    "list(range(10)) # [0, 1, 2, 3, 4, 5, 6, 7, 8, 8, 9]\n",
    "```\n",
    "2. **range(start, stop)**: generates integers from “start” to “stop”.\n",
    "```python\n",
    "list(range(2,10)) # [2, 3, 4, 5, 6, 7, 8, 8, 9]\n",
    "```\n",
    "3. **range(start, stop, step)**: generates integers from “start” to ‘stop’ with “step” intervals.\n",
    "```python\n",
    "list(range(2,10)) # [2, 4, 6, 8]\n",
    "```\n",
    "In all cases, stop (upper bound) is not included in the list."
   ]
  },
  {
   "cell_type": "markdown",
   "id": "0c977259-3e98-47b8-a20d-96b217e8dd1c",
   "metadata": {
    "jp-MarkdownHeadingCollapsed": true
   },
   "source": [
    "## 6. Define a class named car and with 2 properties, “color” and “speed”. Then create an instance and return the speed property"
   ]
  },
  {
   "cell_type": "code",
   "execution_count": 99,
   "id": "a0c88415-dd6c-4290-8844-50c6b7773c9e",
   "metadata": {},
   "outputs": [
    {
     "name": "stdout",
     "output_type": "stream",
     "text": [
      "Black, 150\n"
     ]
    }
   ],
   "source": [
    "class car():\n",
    "    def __init__(self, color, speed):\n",
    "        self.color = color\n",
    "        self.speed = speed\n",
    "\n",
    "MyCar = car('Black', 150)\n",
    "print(MyCar.color, MyCar.speed, sep = ', ')"
   ]
  },
  {
   "cell_type": "markdown",
   "id": "25d9f8d5-40b4-4a9a-9903-77320526069e",
   "metadata": {},
   "source": [
    "## 7. What is the difference between class method, instance method and static method in Python?"
   ]
  },
  {
   "cell_type": "markdown",
   "id": "cffa5d04-d73b-49b3-a073-2016f373bdb7",
   "metadata": {},
   "source": [
    "Instance methods: take the self parameter and refer to a specific instance of the class.\n",
    "\n",
    "Static methods: use the @staticmethod decorator for methods that are not associated with specific instances and are self-contained (do not change class or instance properties).\n",
    "\n",
    "Class methods: accept the cls parameter and can modify the class itself.\n",
    "\n",
    "Let's illustrate the difference around the fictional CoffeeShop class.\n",
    "\n",
    "```python\n",
    "\n",
    "class CoffeeShop:\n",
    " specialty = 'espresso'\n",
    "    \n",
    "    def __init__(self, coffee_price):\n",
    " self.coffee_price = coffee_price\n",
    "    \n",
    "    # instance method\n",
    " def make_coffee(self):\n",
    " print(f'Making {self.specialty} for ${self.coffee_price}')\n",
    "    \n",
    "    # static method \n",
    " @staticmethod\n",
    " def check_weather():\n",
    " print('Its sunny')\n",
    "\n",
    "    # class method\n",
    " @classmethod\n",
    " def change_specialty(cls, specialty):\n",
    " cls.specialty = specialty\n",
    " print(f'Specialty changed to {specialty}')\n",
    "```\n",
    "\n",
    "CoffeeShop The class has a specialty property set to the default value ‘espresso’. Each CoffeeShop instance is initialized with the coffee_price property. It also has 3 methods: an instance method, a static method and a class method.\n",
    "\n",
    "Let's initialize a coffee shop instance with coffee_price = 5. Then let's call the make_coffee instance method.\n",
    "\n",
    "```python\n",
    "coffee_shop = CoffeeShop('5')\n",
    "coffee_shop.make_coffee()\n",
    "#=> Making espresso for $5\n",
    "```\n",
    "\n",
    "Now let's call a static method. Static methods cannot change the class or instance state, so they are usually used for service functions. We'll use our static method to check the weather. Its sunny.\n",
    "\n",
    "```python\n",
    "coffee_shop.check_weather()\n",
    "#=> Its sunny\n",
    "```\n",
    "\n",
    "Now let's use the class method to change the coffee's appearance, and then call the make_coffee method.\n",
    "\n",
    "```python\n",
    "coffee_shop.change_specialty('drip coffee')\n",
    "#=> Specialty changed to drip coffee\n",
    "\n",
    "coffee_shop.make_coffee()\n",
    "#=> Making drip coffee for $5\n",
    "```\n",
    "\n",
    "Notice how the make_coffee method used to make espresso, but now makes drip coffee!"
   ]
  },
  {
   "cell_type": "markdown",
   "id": "59554715-51c1-485d-b2ba-1727d92a5185",
   "metadata": {},
   "source": [
    "## 8. What is the difference between “func” and “func()”?"
   ]
  },
  {
   "cell_type": "markdown",
   "id": "991a04ac-a16e-4f0b-b4be-d9c5be7bb517",
   "metadata": {},
   "source": [
    "The purpose of this question is to see if you know that all functions are also objects in Python.\n",
    "\n",
    "```python\n",
    "def func():\n",
    "    print('Im a function')\n",
    "    \n",
    "func\n",
    "#=> function __main__.func>\n",
    "\n",
    "func()    \n",
    "#=> Im a function\n",
    "```\n",
    "\n",
    "func is an object representing a function that can be assigned to a variable or passed to another function. A func() with parentheses calls a function and returns what is in return."
   ]
  },
  {
   "cell_type": "markdown",
   "id": "ddb9db94-dac7-4690-addc-857743d40405",
   "metadata": {},
   "source": [
    "## 9. Explain how the map() function works"
   ]
  },
  {
   "cell_type": "markdown",
   "id": "5d8f73f3-c122-4b6d-8f72-fe2f05c96678",
   "metadata": {},
   "source": [
    "The `map()` function in Python applies a given function to each item in an iterable (like a list, tuple, etc.) and returns an iterator of the results. It’s a concise way to transform data without using explicit loops.\n",
    "\n",
    "```python\n",
    "map(function, iterable, ...) # syntax\n",
    "```\n",
    "\n",
    "Example:\n",
    "```python\n",
    "# Double each number in a list\n",
    "numbers = [1, 2, 3, 4]\n",
    "result = map(lambda x: x * 2, numbers)\n",
    "print(list(result))  # Output: [2, 4, 6, 8]\n",
    "```"
   ]
  },
  {
   "cell_type": "markdown",
   "id": "0d480348-b139-4969-8530-b19f055643eb",
   "metadata": {},
   "source": [
    "## 10. Explain how the reduce() function works"
   ]
  },
  {
   "cell_type": "markdown",
   "id": "5e04f59e-63b3-49c1-ad1e-e9a655bf9843",
   "metadata": {},
   "source": [
    "This function is quite hard to understand immediately until you use it several times.\n",
    "\n",
    "`reduce` takes a function and a sequence and iterates through that sequence. At each iteration, the current element and the output of the previous element are passed to the function. At the end, a single value is returned.\n",
    "\n",
    "```python\n",
    "from functools import reduce\n",
    "\n",
    "def add_three(x,y):\n",
    " return x + y\n",
    "\n",
    "li = [1,2,3,5]\n",
    "\n",
    "reduce(add_three, li)\n",
    "#=> 11\n",
    "```"
   ]
  },
  {
   "cell_type": "markdown",
   "id": "514e35f2-6046-4072-9dfa-18f6aa72fc21",
   "metadata": {},
   "source": [
    "## 11. Explain how the filter() function works"
   ]
  },
  {
   "cell_type": "markdown",
   "id": "64264e29-7371-49dc-9839-c356eea7e26b",
   "metadata": {},
   "source": [
    "The `filter()` function literally does what its name says: It filters the elements in a sequence/list.\n",
    "\n",
    "The `filter(f, iterable)` function tries all the elements of iterable, passes each element to the f function, and leaves only those for which f(element) returns True.\n",
    "\n",
    "```python\n",
    "def add_three(x):\n",
    " if x % 2 == 0:\n",
    " return True \n",
    " else:\n",
    " return False\n",
    "li = [1,2,3,4,5,6,7,8]\n",
    "new_listdata = [i for i in filter(add_three, li)]\n",
    "print(new_listdata)\n",
    "#=> [2, 4, 6, 8]\n",
    "```\n",
    "Note that all elements not divisible by 2 have been removed."
   ]
  },
  {
   "cell_type": "markdown",
   "id": "3cac58d7-521e-4614-a740-60564d7bb889",
   "metadata": {},
   "source": [
    "## 12. Does python call by reference or by value?"
   ]
  },
  {
   "cell_type": "markdown",
   "id": "5d0088dd-6dd6-4353-a1ee-e09c6a4200ac",
   "metadata": {},
   "source": [
    "Python always passes a **reference to the object**, not a copy and not the variable itself.\n",
    "\n",
    "- If the object is **immutable** (e.g., `int`, `str`, `tuple`), any change inside the function creates a **new object**.  \n",
    "  The original object remains unchanged outside the function.\n",
    "- If the object is **mutable** (e.g., `list`, `dict`, `set`), and it’s modified **in place** inside the function,  \n",
    "  the changes are **reflected outside** the function.\n",
    "\n",
    "Immutable Example (string):\n",
    "```python\n",
    "name = 'chr'\n",
    "def add_chars(s):\n",
    "    s += 'is'\n",
    "    print(s)\n",
    "    \n",
    "add_chars(name)    \n",
    "print(name)\n",
    "#=> chris\n",
    "#=> chr\n",
    "```\n",
    "Mutable Example (list):\n",
    "```python\n",
    "li = [1,2]\n",
    "def add_element(seq):\n",
    "    seq.append(3)\n",
    "    print(seq)\n",
    "    \n",
    "add_element(li)    \n",
    "print(li)\n",
    "#=> [1, 2, 3]\n",
    "#=> [1, 2, 3]\n",
    "```"
   ]
  },
  {
   "cell_type": "markdown",
   "id": "0340655a-81e0-4247-887b-b251e48a9757",
   "metadata": {},
   "source": [
    "## 13. How to reverse the list?"
   ]
  },
  {
   "cell_type": "markdown",
   "id": "d1dc83af-0b1e-4ed1-910e-04a419e1a8e7",
   "metadata": {},
   "source": [
    "In order to reverse a list, you must call `reverse()`, which is a method of the list. The function changes the list itself.\n",
    "\n",
    "```python\n",
    "li = ['a','b','c']\n",
    "print(li)\n",
    "li.reverse()\n",
    "print(li)\n",
    "#=> ['a', 'b', 'c']\n",
    "#=> ['c', 'b', 'a']\n",
    "```\n",
    "\n",
    "Alternative:\n",
    "\n",
    "```python\n",
    "my_list = [1, 2, 3, 4, 5]\n",
    "my_list[::-1]\n",
    "```"
   ]
  },
  {
   "cell_type": "markdown",
   "id": "40a24207-faa2-4a1c-b2c6-ac224938bda9",
   "metadata": {},
   "source": [
    "## 14. How does string multiplication work?"
   ]
  },
  {
   "cell_type": "markdown",
   "id": "a2146c9e-1664-4222-a018-c95a1df9f7e4",
   "metadata": {},
   "source": [
    "Let's see the results of multiplying the string ``‘cat’`'' by 3.\n",
    "\n",
    "```python\n",
    "'cat' * 3\n",
    "# => \"catcatcat"
   ]
  },
  {
   "cell_type": "markdown",
   "id": "247d97be-6e81-480a-ab8b-f821e314c43f",
   "metadata": {},
   "source": [
    "## 15. How does list multiplication work?"
   ]
  },
  {
   "cell_type": "markdown",
   "id": "d928684a-b296-455e-88bd-b53168d388b9",
   "metadata": {},
   "source": [
    "Let's see the result of multiplying the list `[1, 2, 3]` by 2.\n",
    "\n",
    "```python\n",
    "[1, 2, 3] * 2\n",
    "# => [1, 2, 3, 1, 2, 3]"
   ]
  },
  {
   "cell_type": "markdown",
   "id": "55db6cad-9eeb-478f-8e60-a5746e2e63cf",
   "metadata": {},
   "source": [
    "## 16. What does “self” mean in a class?"
   ]
  },
  {
   "cell_type": "markdown",
   "id": "01b7e686-f7e9-4c53-9974-2af2e16a8710",
   "metadata": {},
   "source": [
    "Self refers to an instance of the class itself. This is how we give methods access and the ability to update the object they belong to.\n",
    "\n",
    "Below, passing self to __init__() gives you the ability to set the colour for the instance at initialisation.\n",
    "\n",
    "```python\n",
    "class Shirt:\n",
    "    def __init__(self, color):\n",
    "        self.color = color\n",
    "        \n",
    "s = Shirt('yellow')\n",
    "s.color\n",
    "#=> 'yellow'\n",
    "```"
   ]
  },
  {
   "cell_type": "markdown",
   "id": "b51444c4-cafd-4141-a47e-f5f31117e3d7",
   "metadata": {},
   "source": [
    "## 17. How to merge lists in Python?"
   ]
  },
  {
   "cell_type": "markdown",
   "id": "287dbf94-e07c-4849-bb7b-1665bf588ea0",
   "metadata": {},
   "source": [
    "**The sum of 2 lists combines them**:\n",
    "\n",
    "```python\n",
    "a = [1,2]\n",
    "b = [3,4,5]\n",
    "c = a + b\n",
    "print(c)\n",
    "print(a + b)\n",
    "#=> [1, 2, 3, 4, 5]\n",
    "#=> [1, 2, 3, 4, 5]\n",
    "```\n",
    "**Method `.extend()`**:\n",
    "\n",
    "Adds the elements of one list to the end of another. Modifies the original list.\n",
    "\n",
    "```python\n",
    "a = [1, 2]\n",
    "b = [3, 4]\n",
    "a.extend(b)\n",
    "print(a) # [1, 2, 3, 4]\n",
    "```\n",
    "\n",
    "**Rack lists `[*a, *b]`**:\n",
    "\n",
    "```python\n",
    "a = [1, 2]\n",
    "b = [3, 4]\n",
    "c = [*a, *b]\n",
    "print(c) # [1, 2, 3, 4]\n",
    "```"
   ]
  },
  {
   "cell_type": "markdown",
   "id": "96a3af5d-cd29-4dce-8079-c2ed76f53046",
   "metadata": {},
   "source": [
    "## 18. What is the difference between shallow copy vs. deep copy?"
   ]
  },
  {
   "cell_type": "markdown",
   "id": "5a681d83-44c9-4e9a-b6fb-c783ee39f715",
   "metadata": {},
   "source": [
    "We'll discuss this in the context of a mutable object - a list. For immutable objects, shallow copy vs deep copy is not as relevant.\n",
    "\n",
    "We will go through 3 scenarios\n",
    "\n",
    "1) Reference to the original object. It points to the new name, li2 points to the same memory location pointed to by li1. Thus, any change we make in li1 also happens in li2\n",
    "\n",
    "```python\n",
    "li1 = [['a'],['b'],['c']]\n",
    "li2 = li1\n",
    "li1.append(['d'])\n",
    "print(li2)\n",
    "#=> [[‘a’], [‘b’], [‘c’], [‘d’]]\n",
    "```\n",
    "\n",
    "2) Create a shallow copy of the original. We can do this with the list() constructor or the more pythonic mylist.copy().\n",
    "The shallow copy creates a new object, but populates it with references to the original. Thus, adding a new object to the original li3 collection does not propagate to li4, but changing one of the li3 objects will propagate to li4.\n",
    "\n",
    "```python\n",
    "li3 = [['a'],['b'],['c']]\n",
    "li4 = list(li3)\n",
    "li3.append([4])\n",
    "print(li4)\n",
    "#=> [['a'], ['b'], ['c']]\n",
    "li3[0][0] = ['X']\n",
    "print(li4)\n",
    "#=> [[[‘X’]], [‘b’], [‘c’]]\n",
    "```\n",
    "\n",
    "3) Create a deep copy. This is done with copy.deepcopy(). The 2 objects are now completely independent, and changes to one of them do not affect the other list.\n",
    "\n",
    "```python\n",
    "import copy\n",
    "li5 = [['a'],['b'],['c']]\n",
    "li6 = copy.deepcopy(li5)\n",
    "li5.append([4])\n",
    "li5[0][0] = ['X']\n",
    "print(li6)\n",
    "#=> [[‘a’], [‘b’], [‘c’]]\n",
    "```"
   ]
  },
  {
   "cell_type": "markdown",
   "id": "871617d5-1fde-4c23-bec3-69b20167d841",
   "metadata": {},
   "source": [
    "## 19. What is the difference between lists and arrays?"
   ]
  },
  {
   "cell_type": "markdown",
   "id": "bcaaa822-e3ce-41e1-b623-7a9bbfd96df4",
   "metadata": {},
   "source": [
    "**Note**: Python includes a built-in array type (array), but in this case by \"array\" I mean the numpy.array type, which is much more commonly used.\n",
    "\n",
    "`Lists` exist in the Python standard library. `Arrays` are defined by Numpy.\n",
    "\n",
    "Lists can be populated with different data types at each index. Arrays require homogeneous elements.\n",
    "\n",
    "Arithmetic on lists adds or removes elements from the list. Arithmetic on arrays is a linear algebra function.\n",
    "\n",
    "```python\n",
    "a = np.array([1, 2, 3])\n",
    "b = np.array([-1, -2, -3])\n",
    "c = [1, 2, 3]\n",
    "d = [-1, -2, -3]\n",
    "\n",
    "a + b # -> array([0, 0, 0, 0])\n",
    "c + d # -> [1, 2, 3, -1, -2, -3]\n",
    "```\n",
    "\n",
    "Arrays also use less memory and have much more functionality."
   ]
  },
  {
   "cell_type": "markdown",
   "id": "f28b5fd2-5a26-40d7-90f5-c33c2d4409bb",
   "metadata": {},
   "source": [
    "## 20. How to join two Numpy arrays?"
   ]
  },
  {
   "cell_type": "markdown",
   "id": "c1d1eba2-3a64-4b57-9e1f-51983a5f1287",
   "metadata": {},
   "source": [
    "Arrays are not lists. Arrays in Numpy cannot be added together like lists, because the arithmetic functions go into the linear algebra category (matrix addition).\n",
    "\n",
    "To combine arrays, we need to use Numpy's chaining function.\n",
    "\n",
    "```python\n",
    "import numpy as np\n",
    "a = np.array([1,2,3])\n",
    "b = np.array([4,5,6])\n",
    "np.concatenate((a,b))\n",
    "#=> array([1, 2, 3, 4, 5, 6])\n",
    "```"
   ]
  },
  {
   "cell_type": "markdown",
   "id": "f89b24da-fcc1-4f47-bd6f-0f3aea00b42a",
   "metadata": {},
   "source": [
    "## 21. Name the mutable and immutable objects in Python"
   ]
  },
  {
   "cell_type": "markdown",
   "id": "d2d8ea60-8f36-4259-ab5f-65dd3645eb66",
   "metadata": {},
   "source": [
    "**Immutable objects** - means that the state cannot be changed after creation. Examples are `int`, `float`, `bool`, `string`, and `tuple`.\n",
    "\n",
    "**Mutable Object** - means that the state can be changed after creation. Examples are `list`, `dict` and `set`."
   ]
  },
  {
   "cell_type": "markdown",
   "id": "04ee1dba-8587-44a1-bf6e-f0290c90aebf",
   "metadata": {},
   "source": [
    "## 22. How to round a number to 3 decimal places in Python?"
   ]
  },
  {
   "cell_type": "markdown",
   "id": "a39db4d6-1a03-40cd-bc3b-40c39c775776",
   "metadata": {},
   "source": [
    "Use the round(value, decimal_places) function:\n",
    "\n",
    "```python\n",
    "a = 5.12345\n",
    "round(a,3)\n",
    "#=> 5.123\n",
    "```"
   ]
  },
  {
   "cell_type": "markdown",
   "id": "ea99456f-c1f5-4323-9441-e0cc8c8a3d08",
   "metadata": {},
   "source": [
    "## 23. How to output a slice of a list - slice a list?"
   ]
  },
  {
   "cell_type": "markdown",
   "id": "3579bb60-2fb2-4ec6-8c6e-fbe6b1324c35",
   "metadata": {},
   "source": [
    "The **slice** syntax is as follows, you need to **list** to pass 3 arguments, `list[start:stop:step]`, where step is the interval over which the elements are returned.\n",
    "\n",
    "```python\n",
    "a = [0,1,2,3,4,5,6,7,8,9]\n",
    "print(a[:2])\n",
    "#=> [0, 1]\n",
    "print(a[8:])\n",
    "#=> [8, 9]\n",
    "print(a[2:8])\n",
    "#=> [2, 3, 4, 5, 6, 7]\n",
    "print(a[2:8:2])\n",
    "#=> [2, 4, 6]\n",
    "```"
   ]
  },
  {
   "cell_type": "markdown",
   "id": "4229b7c2-27b4-431f-afd7-cd71f1f1a7de",
   "metadata": {},
   "source": [
    "## 24. What is pickling (pickling)?"
   ]
  },
  {
   "cell_type": "markdown",
   "id": "e9ff887e-5e2f-41a6-93c3-bbcc3708e751",
   "metadata": {},
   "source": [
    "**Pickling** is a method for serializing (converting an object to bytes) and deserializing (restoring an object from bytes) in Python.\n",
    "Pickle is used when you want to save Python objects to a file or transfer them over a network, so that you can restore exactly the same object later.\n",
    "\n",
    "In the example below, we serialize and deserialize a list of dictionaries:\n",
    "\n",
    "```python\n",
    "import pickle\n",
    "obj = [\n",
    "    {'id':1, 'name':'Stuffy'},\n",
    "    {'id':2, 'name': 'Fluffy'}\n",
    "]\n",
    "with open('file.p', 'wb') as f:\n",
    "    pickle.dump(obj, f)\n",
    "with open('file.p', 'rb') as f:\n",
    "    loaded_obj = pickle.load(f)\n",
    "print(loaded_obj)\n",
    "#=> [{'id': 1, 'name': 'Stuffy'}, {'id': 2, 'name': 'Fluffy'}]\n",
    "```"
   ]
  },
  {
   "cell_type": "markdown",
   "id": "94fe7d91-504f-4164-9cc8-7eeae7e5c183",
   "metadata": {},
   "source": [
    "## 25. What is the difference between dictionaries and JSON?"
   ]
  },
  {
   "cell_type": "markdown",
   "id": "5559a33c-588d-420d-a629-5287250dfbd2",
   "metadata": {},
   "source": [
    "**Dictionary** is a Python data type, a set of indexed but unordered keys and values.\n",
    "\n",
    "**JSON** is simply a string that follows a given format and is intended to convey data.\n",
    "\n",
    "```python\n",
    "import json\n",
    "\n",
    "# Python Dictionary\n",
    "data_dict = {\n",
    " \"user\": \"Anna\",\n",
    " \"active\": True,\n",
    " \"roles\": [\"admin\", \"editor\"],\n",
    " 42: None # allowed in dict, but not in JSON\n",
    "}\n",
    "\n",
    "# Serialize to JSON string\n",
    "json_str = json.dumps(data_dict)\n",
    "json_str # → '{\"user\": \"Anna\", \"active\": true, \"roles\": [‘admin’, ‘editor’], ‘42’: null}'"
   ]
  },
  {
   "cell_type": "markdown",
   "id": "4669f194-ee26-48fe-ba1f-3e34326796b1",
   "metadata": {},
   "source": [
    "## 26. What ORMs have you used in Python?"
   ]
  },
  {
   "cell_type": "markdown",
   "id": "131f3ad8-2297-488a-818a-7b998af99137",
   "metadata": {},
   "source": [
    "**What is ORM**:\n",
    "`ORM` (Object-Relational Mapping, Object-Relational Mapping) is a layer between your application objects and database tables.\n",
    "\n",
    "It:\n",
    "- automatically maps (mappings) classes and their attributes to rows and columns in the database;\n",
    "- generates SQL queries for you and wraps them in Python methods;\n",
    "- takes care of the details of transactions, lazy loading, migrations, etc.\n",
    "\n",
    "**Examples in the Python ecosystem**:\n",
    "- `SQLAlchemy` is the most popular “generic” ORM. It is often used in conjunction with (but not dependent on) Flask and supports both declarative-style and pure Core-SQL APIs.\n",
    "- `Django ORM` - is built right into the Django framework. It follows an “active record” approach, where each model-class knows how to save itself to the base.\n",
    "- `Other`: Peewee, PonyORM, Tortoise ORM, GINO for async applications, etc."
   ]
  },
  {
   "cell_type": "markdown",
   "id": "bdc724d8-53e6-44e7-96bc-3147e9198d8c",
   "metadata": {},
   "source": [
    "## 27. How do any() and all() work?"
   ]
  },
  {
   "cell_type": "markdown",
   "id": "c505c08b-22a5-4d67-83ef-6c161e97c33a",
   "metadata": {},
   "source": [
    "`Any()` takes a sequence and returns true **if any** element in the sequence is true.\n",
    "\n",
    "`All()` returns true only **if all** elements in the sequence are true.\n",
    "\n",
    "```python\n",
    "a = [False, False, False]\n",
    "b = [True, False, False]\n",
    "c = [True, True, True]\n",
    "print( any(a) )\n",
    "print( any(b) )\n",
    "print( any(c) )\n",
    "#=> False\n",
    "#=> True\n",
    "#=> True\n",
    "print( all(a) )\n",
    "print( all(b) )\n",
    "print( all(c) )\n",
    "#=> False\n",
    "#=> False\n",
    "#=> True\n",
    "```"
   ]
  },
  {
   "cell_type": "markdown",
   "id": "d52e95bf-ee30-4ae7-b603-1c8c0723a3da",
   "metadata": {},
   "source": [
    "## 28. Which is faster for finding an item - a dictionary or a list in Python?"
   ]
  },
  {
   "cell_type": "markdown",
   "id": "8a060042-6461-46e9-9d9b-0a1dbdfed4f6",
   "metadata": {},
   "source": [
    "Finding a value in a list takes `O(n)` time because the entire list must be searched until the value is found.\n",
    "\n",
    "Finding a key in a dictionary takes `O(1)` time because it is a `hash table'.\n",
    "\n",
    "This can make a huge difference in time if there are many values, so dictionaries are usually recommended for speed. But they have other limitations, such as the need for unique keys."
   ]
  },
  {
   "cell_type": "markdown",
   "id": "3167b53d-2686-4af2-858c-4fa23a5be316",
   "metadata": {},
   "source": [
    "## 29. What is the difference between a module and a package?"
   ]
  },
  {
   "cell_type": "markdown",
   "id": "e7905073-c74b-4210-b045-a7015474b363",
   "metadata": {},
   "source": [
    "**Module** is a file (or set of files) that can be imported together.\n",
    "\n",
    "```python\n",
    "import math\n",
    "```\n",
    "**Package** is a catalog of modules\n",
    "\n",
    "```python\n",
    "from sklearn import cross_validation\n",
    "```"
   ]
  },
  {
   "cell_type": "markdown",
   "id": "f27ae72b-3b03-4be8-8698-4abb2e4cdf88",
   "metadata": {},
   "source": [
    "## 30. How to increment and decrement an integer in Python?"
   ]
  },
  {
   "cell_type": "markdown",
   "id": "dd39754e-0ad3-4918-afe3-ff01a0416e23",
   "metadata": {},
   "source": [
    "Increasing and decreasing can be done with += and -=:\n",
    "\n",
    "```python\n",
    "value = 5\n",
    "value += 1\n",
    "print(value)\n",
    "#=> 6\n",
    "value -= 1\n",
    "value -= 1\n",
    "print(value)\n",
    "#=> 4\n",
    "```"
   ]
  },
  {
   "cell_type": "markdown",
   "id": "231aa3df-055d-4741-85f4-99537119cf27",
   "metadata": {},
   "source": [
    "## 31. How do you convert an integer to a binary number?"
   ]
  },
  {
   "cell_type": "markdown",
   "id": "7fc5dd9b-ac13-40fc-aa36-07b4a649d8a3",
   "metadata": {},
   "source": [
    "Use bin() function:\n",
    "\n",
    "```python\n",
    "bin(5)\n",
    "#=> '0b101'\n",
    "```"
   ]
  },
  {
   "cell_type": "markdown",
   "id": "6ab01381-6ba6-46cb-8690-201f80d5eb60",
   "metadata": {},
   "source": [
    "## 32. How to remove duplicate items from the list?"
   ]
  },
  {
   "cell_type": "markdown",
   "id": "a72cd717-0c28-4219-be18-5d0937f5483a",
   "metadata": {},
   "source": [
    "Removing duplicate items from a list can be done by converting the list to a set and then back to a list.\n",
    "\n",
    "```python\n",
    "a = [1,1,1,2,3]\n",
    "a = list(set(a))\n",
    "print(a)\n",
    "#=> [1, 2, 3]\n",
    "```"
   ]
  },
  {
   "cell_type": "markdown",
   "id": "7fd762f6-b798-4f31-b800-467733e565d4",
   "metadata": {},
   "source": [
    "## 33. How to check if a value exists in the list?"
   ]
  },
  {
   "cell_type": "markdown",
   "id": "06e6c493-a494-4185-b94b-1645df38e347",
   "metadata": {},
   "source": [
    "Use `in`:\n",
    "```python\n",
    "'a' in ['a','b','c']\n",
    "#=> True\n",
    "'a' in [1,2,3]\n",
    "#=> False\n",
    "```"
   ]
  },
  {
   "cell_type": "markdown",
   "id": "e0e821ce-0db0-4832-a97a-5ef1ef43d472",
   "metadata": {},
   "source": [
    "## 34. What is the difference between an addendum and an extension?"
   ]
  },
  {
   "cell_type": "markdown",
   "id": "1d871856-133d-4a16-ac3e-6a2f3ac2e63d",
   "metadata": {},
   "source": [
    "`append` appends a value to the list, and `extend` appends values from another list to the list:\n",
    "\n",
    "```python\n",
    "a = [1,2,3]\n",
    "b = [1,2,3]\n",
    "a.append(6)\n",
    "print(a)\n",
    "#=> [1, 2, 3, 6]\n",
    "b.extend([4,5])\n",
    "print(b)\n",
    "#=> [1, 2, 3, 4, 5]\n",
    "```"
   ]
  },
  {
   "cell_type": "markdown",
   "id": "8a2f5bd8-bca5-442b-8aac-aa92f67eb825",
   "metadata": {},
   "source": [
    "## 35. How to get the absolute value (modulus) of an integer?"
   ]
  },
  {
   "cell_type": "markdown",
   "id": "52ad8f22-dbbc-4b85-8c5a-464af8fb1239",
   "metadata": {},
   "source": [
    "Use `abs` functions:\n",
    "\n",
    "```python\n",
    "abs(2)\n",
    "#=> 2\n",
    "abs(-2)\n",
    "#=> 2\n",
    "```"
   ]
  },
  {
   "cell_type": "markdown",
   "id": "4054d6a3-d111-46f9-a9f5-94038debecc9",
   "metadata": {},
   "source": [
    "## 36. How to merge two lists (2 lists) into a list of tuples?"
   ]
  },
  {
   "cell_type": "markdown",
   "id": "edd3d6a5-2083-49d9-9c49-c4da27259fe3",
   "metadata": {},
   "source": [
    "You can use the zip() function to merge lists into a tuple list. The zip() function is not limited to merging only 2 lists. zip() can also be called with 3 or more lists.\n",
    "\n",
    "```python\n",
    "a = ['a','b','c']\n",
    "b = [1,2,3]\n",
    "[(k,v) for k,v in zip(a,b)]\n",
    "#=> [('a', 1), ('b', 2), ('c', 3)]\n",
    "```"
   ]
  },
  {
   "cell_type": "markdown",
   "id": "a88881fa-da53-40b1-8200-6a925b43657a",
   "metadata": {},
   "source": [
    "## 37. How to sort the dictionary by key in alphabetical order?"
   ]
  },
  {
   "cell_type": "markdown",
   "id": "0346e965-5f49-4144-8b80-50e625060021",
   "metadata": {},
   "source": [
    "You can't “sort” a dictionary because dictionaries have no order, but you can return a sorted list of tuples that has the keys and values that are in the dictionary.\n",
    "\n",
    "```python\n",
    "d = {'c':3, 'd':4, 'b':2, 'a':1}\n",
    "sorted(d.items())\n",
    "#=> [('a', 1), ('b', 2), ('c', 3), ('d', 4)]\n",
    "```"
   ]
  },
  {
   "cell_type": "markdown",
   "id": "b475b075-09b5-434b-83ef-6c6168cbf72a",
   "metadata": {},
   "source": [
    "## 38. How does a class inherit from another class in Python?"
   ]
  },
  {
   "cell_type": "markdown",
   "id": "6a07210e-4479-43d0-8d11-f8739476f944",
   "metadata": {},
   "source": [
    "In the example below, Audi inherits from Car. And with this inheritance come the methods of an instance of the parent class (i.e. from the Car class to the Audi class).\n",
    "\n",
    "```python\n",
    "class Car():\n",
    "    def drive(self):\n",
    "        print('vroom')\n",
    "class Audi(Car):\n",
    "    pass\n",
    "audi = Audi()\n",
    "audi.drive()\n",
    "```"
   ]
  },
  {
   "cell_type": "markdown",
   "id": "4acf9199-d5b4-4f8c-a8af-e0f1b74d5fe6",
   "metadata": {},
   "source": [
    "## 39. How can you remove all spaces from a string?"
   ]
  },
  {
   "cell_type": "markdown",
   "id": "77e23c9d-2ad6-4cad-bc1c-afa5255fe3fe",
   "metadata": {},
   "source": [
    "Use `replace` function:\n",
    "\n",
    "```python\n",
    "s = 'A string with     white space'\n",
    "s.replace(' ', '')\n",
    "#=> 'Astringwithwhitespace'\n",
    "```\n",
    "Alternative:\n",
    "```python\n",
    "''.join(s.split())\n",
    "#=> 'Astringwithwhitespace'\n",
    "```"
   ]
  },
  {
   "cell_type": "markdown",
   "id": "ab25f370-529b-45f1-b3e5-b5bdddc8a6ce",
   "metadata": {},
   "source": [
    "## 40. Why should enumerate() be used to iterate a sequence?"
   ]
  },
  {
   "cell_type": "markdown",
   "id": "c293afae-09d1-4635-9968-23a0f2a94617",
   "metadata": {},
   "source": [
    "The `enumerate()` function keeps track of the index as you iterate through the sequence. This is more pythonic than defining and incrementing an integer representing the index.\n",
    "\n",
    "```python\n",
    "li = ['a','b','c','d','e']\n",
    "for idx,val in enumerate(li):\n",
    "    print(idx,val)\n",
    "#=> 0 a\n",
    "#=> 1 b\n",
    "#=> 2 c\n",
    "#=> 3 d\n",
    "#=> 4 e\n",
    "```"
   ]
  },
  {
   "cell_type": "markdown",
   "id": "42377a18-061b-471f-aaa0-28289eb3fa16",
   "metadata": {},
   "source": [
    "## 41.What is the difference between pass, continue и break?"
   ]
  },
  {
   "cell_type": "markdown",
   "id": "b4485d53-d1db-4784-bd54-372ff0100864",
   "metadata": {},
   "source": [
    "`pass` means to do nothing. It is usually used because Python does not allow you to create a class, function, or if statement without code inside.\n",
    "The example below will throw an error without code inside i > 3, so pass should be used\n",
    "\n",
    "```python\n",
    "a = [1,2,3,4,5]\n",
    "for i in a:\n",
    "    if i > 3:\n",
    "        pass\n",
    "    print(i)\n",
    "#=> 1\n",
    "#=> 2\n",
    "#=> 3\n",
    "#=> 4\n",
    "#=> 5\n",
    "```\n",
    "`continue` - moves the loop to the next element and stops loop execution for the current element. So print(i) will never be executed for values where i < 3.\n",
    "\n",
    "```python\n",
    "for i in a:\n",
    "    if i < 3:\n",
    "        continue\n",
    "    print(i)\n",
    "#=> 3\n",
    "#=> 4\n",
    "#=> 5\n",
    "```\n",
    "`break` — stops the loop and the sequence is no longer repeated. Thus, elements i with value 3 are not output.\n",
    "\n",
    "```python\n",
    "for i in a:\n",
    "    if i == 3:\n",
    "        break\n",
    "    print(i)    \n",
    "#=> 1\n",
    "#=> 2\n",
    "```"
   ]
  },
  {
   "cell_type": "markdown",
   "id": "01773d98-8500-451d-94bc-0e5cde2bdb3a",
   "metadata": {},
   "source": [
    "## 42. How do I translate a loop into a single line entry for a list?"
   ]
  },
  {
   "cell_type": "markdown",
   "id": "000894f0-fbf1-4b8c-a1d7-27ca9119045a",
   "metadata": {},
   "source": [
    "Consider a for loop as it was before:\n",
    "```python\n",
    "a = [1,2,3,4,5]\n",
    " \n",
    "a2 = []\n",
    "for i in a:\n",
    "     a2.append(i + 1)\n",
    "print(a2)\n",
    "#=> [2, 3, 4, 5, 6]\n",
    "```\n",
    "\n",
    "How you can transform:\n",
    "\n",
    "```python\n",
    "a3 = [i+1 for i in a]\n",
    "print(a3)\n",
    "#=> [2, 3, 4, 5, 6]\n",
    "```"
   ]
  },
  {
   "cell_type": "markdown",
   "id": "917ff802-8703-4443-96ed-0b044fc47f00",
   "metadata": {},
   "source": [
    "## 43. Give an example of a ternary operator"
   ]
  },
  {
   "cell_type": "markdown",
   "id": "42f8be54-b08a-4138-aaab-a04c9c232fbb",
   "metadata": {},
   "source": [
    "A ternary operator is a one-line if / else operator.\n",
    "The syntax is ‘a if condition else b’.\n",
    "```python\n",
    "x = 5\n",
    "y = 10\n",
    "'greater' if x > 6 else 'less'\n",
    "#=> 'less'\n",
    "'greater' if y > 6 else 'less'\n",
    "#=> 'greater'\n",
    "```"
   ]
  },
  {
   "cell_type": "markdown",
   "id": "3974bfca-3b08-44a4-9430-7bd7eda6d19c",
   "metadata": {},
   "source": [
    "## 44. How to check that the string contains only digits?"
   ]
  },
  {
   "cell_type": "markdown",
   "id": "7b966245-2453-4920-884d-d9f5800523f8",
   "metadata": {},
   "source": [
    "Use the `isnumeric()` or `isdigit()` functions:\n",
    "\n",
    "| Method        | Checks for...                                | Example            | Result  |\n",
    "|---------------|-----------------------------------------------|--------------------|---------|\n",
    "| `isdigit()`   | Only digits (0–9 and some Unicode digits)     | `'123'.isdigit()`  | `True`  |\n",
    "|               |                                               | `'²'.isdigit()`     | `True`  |\n",
    "|               |                                               | `'Ⅷ'.isdigit()`     | `False` |\n",
    "| `isnumeric()` | All numeric characters (digits, fractions, Roman numerals, etc.) | `'123'.isnumeric()` | `True`  |\n",
    "|               |                                               | `'Ⅷ'.isnumeric()`   | `True`  |\n",
    "|               |                                               | `'¼'.isnumeric()` | `True` |\n",
    "\n",
    "**Summary:**  \n",
    "- Use `isdigit()` for standard digits.  \n",
    "- Use `isnumeric()` when you want to accept a broader range of numeric Unicode characters.\n"
   ]
  },
  {
   "cell_type": "markdown",
   "id": "18aa2947-b83c-40ff-ab94-5afcf65b9adb",
   "metadata": {},
   "source": [
    "## 45. How to check that a string contains only letters?"
   ]
  },
  {
   "cell_type": "markdown",
   "id": "cd8d3434-54c0-420c-9824-bda0878b9a8f",
   "metadata": {},
   "source": [
    "Use `alpha()` function:\n",
    "\n",
    "```python\n",
    "'123a'.isalpha()\n",
    "#=> False\n",
    "'a'.isalpha()\n",
    "#=> True\n",
    "```"
   ]
  },
  {
   "cell_type": "markdown",
   "id": "f90f3c80-05f1-4b5f-bf78-48a84d5fe73f",
   "metadata": {},
   "source": [
    "## 46. How to check that the string contains only numbers and letters?"
   ]
  },
  {
   "cell_type": "markdown",
   "id": "9894e18e-d246-42a9-b22e-6bec85e7427a",
   "metadata": {},
   "source": [
    "Use `isalnum()` function:\n",
    "\n",
    "```python\n",
    "'123abc...'.isalnum()\n",
    "#=> False\n",
    "'123abc'.isalnum()\n",
    "#=> True\n",
    "```"
   ]
  },
  {
   "cell_type": "markdown",
   "id": "6ad75868-3eef-44c1-98e5-fd8c8ff72843",
   "metadata": {},
   "source": [
    "## 47. How to return the list of keys from the dictionary?"
   ]
  },
  {
   "cell_type": "markdown",
   "id": "ee0c7b3d-1e10-448b-9d85-a60f07ed1679",
   "metadata": {},
   "source": [
    "To return a list of keys from a dictionary in Python, use the `list()`:\n",
    "\n",
    "```python\n",
    "my_dict = {'a': 1, 'b': 2, 'c': 3}\n",
    "list(my_dict) # list(my_dict) == list(my_dict.keys())\n",
    "# ['a', 'b', 'c']\n",
    "```"
   ]
  },
  {
   "cell_type": "markdown",
   "id": "fbbdf7db-2650-443f-b970-3151f5c4c419",
   "metadata": {},
   "source": [
    "## 48. How do you convert a string to upper and lower case?"
   ]
  },
  {
   "cell_type": "markdown",
   "id": "3a7456bc-2fcf-41d4-bcdf-7a8ddd7db8fc",
   "metadata": {},
   "source": [
    "You can use the string methods `upper()` and `lower()` for case conversion\n",
    "\n",
    "```python\n",
    "small_word = 'potatocake'\n",
    "big_word = 'FISHCAKE'\n",
    "small_word.upper()\n",
    "#=> 'POTATOCAKE'\n",
    "big_word.lower()\n",
    "#=> 'fishcake'\n",
    "```"
   ]
  },
  {
   "cell_type": "markdown",
   "id": "c3450430-49dc-4b37-b37f-060ff2516e60",
   "metadata": {},
   "source": [
    "## 49. What is the difference between remove, del and pop?"
   ]
  },
  {
   "cell_type": "markdown",
   "id": "afc4935a-ead0-4bd8-a1c8-7cd2c01743c0",
   "metadata": {},
   "source": [
    "`remove()` removes the first matching value:\n",
    "\n",
    "```python\n",
    "li = ['a','b','c','d']\n",
    "li.remove('b')\n",
    "li\n",
    "#=> ['a', 'c', 'd']\n",
    "```\n",
    "\n",
    "`del()` deletes an element by index:\n",
    "\n",
    "```python\n",
    "li = ['a','b','c','d']\n",
    "del li[0]\n",
    "li\n",
    "#=> ['b', 'c', 'd']\n",
    "```\n",
    "\n",
    "`pop()` removes an element by index and returns that element:\n",
    "\n",
    "```python\n",
    "li = ['a','b','c','d']\n",
    "li.pop(2)\n",
    "#=> 'c'\n",
    "li\n",
    "#=> ['a', 'b', 'd']\n",
    "```"
   ]
  },
  {
   "cell_type": "markdown",
   "id": "9c404a25-d1c7-493e-b2d0-7e428213d69a",
   "metadata": {},
   "source": [
    "## 50. Give an example of dictionary comprehension"
   ]
  },
  {
   "cell_type": "markdown",
   "id": "175989dd-c57f-4aa0-ab06-b41c19193fc5",
   "metadata": {},
   "source": [
    "Below we will create a dictionary with letters of the alphabet as keys and an index into the alphabet as values:\n",
    "\n",
    "```python\n",
    "# creating a list of letters\n",
    "import string\n",
    "list(string.ascii_lowercase)\n",
    "alphabet = list(string.ascii_lowercase)\n",
    "# list comprehension\n",
    "d = {val:idx for idx,val in enumerate(alphabet)} \n",
    "d\n",
    "#=> {'a': 0,\n",
    "#=>  'b': 1,\n",
    "#=>  'c': 2,\n",
    "#=> ...\n",
    "#=>  'x': 23,\n",
    "#=>  'y': 24,\n",
    "#=>  'z': 25}\n",
    "```"
   ]
  },
  {
   "cell_type": "markdown",
   "id": "4dbebd23-311a-41b3-aacc-139eb7a4f49d",
   "metadata": {},
   "source": [
    "## 51. How is exception handling done in Python?"
   ]
  },
  {
   "cell_type": "markdown",
   "id": "437b04f2-3618-43ba-b7a1-85a2939b7d00",
   "metadata": {},
   "source": [
    "Python provides 3 words for handling try, except and finally exceptions.\n",
    "The syntax is as follows:\n",
    "\n",
    "```python\n",
    "try:\n",
    "    # try to do this\n",
    "except:\n",
    "    # if try block fails then do this\n",
    "finally:\n",
    "    # always do this\n",
    "```\n",
    "In the following example, the try block fails because we cannot add integers to strings. In the except block val = 10 and then finally block prints complete.\n",
    "\n",
    "```python\n",
    "try:\n",
    "    val = 1 + 'A'\n",
    "except:\n",
    "    val = 10\n",
    "finally:\n",
    "    print('complete')\n",
    "    \n",
    "print(val)\n",
    "#=> complete\n",
    "#=> 10\n",
    "```"
   ]
  },
  {
   "cell_type": "markdown",
   "id": "727c5e36-5cac-46f1-aff7-e6cc67944bef",
   "metadata": {},
   "source": [
    "------\n",
    "**Source**: https://python.ivan-shamaev.ru/python-job-interview-question-and-answer-for-data-scientist\n",
    "\n",
    "**Translated by**: Georgii Kutivadze"
   ]
  }
 ],
 "metadata": {
  "kernelspec": {
   "display_name": "Python 3 (ipykernel)",
   "language": "python",
   "name": "python3"
  },
  "language_info": {
   "codemirror_mode": {
    "name": "ipython",
    "version": 3
   },
   "file_extension": ".py",
   "mimetype": "text/x-python",
   "name": "python",
   "nbconvert_exporter": "python",
   "pygments_lexer": "ipython3",
   "version": "3.11.7"
  }
 },
 "nbformat": 4,
 "nbformat_minor": 5
}
